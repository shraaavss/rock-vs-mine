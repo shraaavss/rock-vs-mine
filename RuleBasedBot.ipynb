{
  "nbformat": 4,
  "nbformat_minor": 0,
  "metadata": {
    "colab": {
      "provenance": [],
      "authorship_tag": "ABX9TyPOYlyEDO9kuAaR+5/dS4rH",
      "include_colab_link": true
    },
    "kernelspec": {
      "name": "python3",
      "display_name": "Python 3"
    },
    "language_info": {
      "name": "python"
    }
  },
  "cells": [
    {
      "cell_type": "markdown",
      "metadata": {
        "id": "view-in-github",
        "colab_type": "text"
      },
      "source": [
        "<a href=\"https://colab.research.google.com/github/shraaavss/Al-ML-prac-projects/blob/main/RuleBasedBot.ipynb\" target=\"_parent\"><img src=\"https://colab.research.google.com/assets/colab-badge.svg\" alt=\"Open In Colab\"/></a>"
      ]
    },
    {
      "cell_type": "code",
      "execution_count": 2,
      "metadata": {
        "id": "pkEiN_-2sFue"
      },
      "outputs": [],
      "source": [
        "import re\n",
        "import random"
      ]
    },
    {
      "cell_type": "code",
      "source": [
        "import random\n",
        "import re\n",
        "\n",
        "class RuleBot:\n",
        "    # neg responses\n",
        "    negative_responses = (\"no\", \"nope\", \"nah\", \"naw\", \"not a chance\", \"sorry\")\n",
        "    # exit commands\n",
        "    exit_commands = (\"quit\", \"pause\", \"exit\", \"goodbye\", \"bye\", \"later\")\n",
        "    # starter questions\n",
        "    random_questions = (\n",
        "        \"Why are you here?\",\n",
        "        \"Are there many humans like you?\",\n",
        "        \"What do you consume for sustenance?\",\n",
        "        \"Is there intelligent life on this planet?\",\n",
        "        \"Does Earth have a leader?\",\n",
        "        \"What planets have you visited?\"\n",
        "    )\n",
        "\n",
        "    def __init__(self):\n",
        "        self.alienbabble = {\n",
        "            'describe_planet_intent': r'.*\\s*your\\s*planet.*',\n",
        "            'answer_why_intent': r'why\\sare.*',\n",
        "            'about_intellipat': r'.*\\s*intellipa'\n",
        "        }\n",
        "\n",
        "    def greet(self):\n",
        "        self.name = input(\"What is your name?\\n\")\n",
        "        will_help = input(f\"Hi {self.name}, I am Rule-Bot. Will you help me learn about your planet?\\n\")\n",
        "        if will_help in self.negative_responses:\n",
        "            print(\"ok, bye.. have a nice day!\")\n",
        "            return\n",
        "        self.chat()\n",
        "\n",
        "    def make_exit(self, reply):\n",
        "        for command in self.exit_commands:\n",
        "            if reply == command:\n",
        "                print(\"Okay, have a nice day!\")\n",
        "                return True\n",
        "\n",
        "    def chat(self):\n",
        "        reply = input(random.choice(self.random_questions))\n",
        "        while not self.make_exit(reply):\n",
        "            reply = input(self.match_reply(reply))\n",
        "\n",
        "    def match_reply(self, reply):\n",
        "        for key, value in self.alienbabble.items():\n",
        "            intent = key\n",
        "            regex_pattern = value\n",
        "            found_match = re.match(regex_pattern, reply)\n",
        "            if found_match and intent == 'describe_planet_intent':\n",
        "                return self.describe_planet_intent()\n",
        "            elif found_match and intent == 'answer_why_intent':\n",
        "                return self.answer_why_intent()\n",
        "            elif found_match and intent == 'about_intellipat':\n",
        "                return self.about_intellipat()\n",
        "        return self.no_match_intent()\n",
        "\n",
        "    def describe_planet_intent(self):\n",
        "        responses = (\"My planet is a utopia of diverse organisms and species.\\n\",\n",
        "                     \"I am from Opidipus, the capital of the Wayward Galaxies.\\n\")\n",
        "        return random.choice(responses)\n",
        "\n",
        "    def answer_why_intent(self):\n",
        "        responses = (\"I come in peace\\n\", \"I am here to collect data on your planet and its inhabitants\\n\",\n",
        "                     \"I heard the coffee is good\\n\")\n",
        "        return random.choice(responses)\n",
        "\n",
        "    def about_intellipat(self):\n",
        "        responses = (\"Intellipaat is world's largest professional educational company\\n\",\n",
        "                     \"Intellipaat will make you learn concepts in the way never left before\\n\")\n",
        "        return random.choice(responses)\n",
        "\n",
        "    def no_match_intent(self):\n",
        "        responses = (\"Please tell me more.\\n\",\n",
        "                     \"Tell me more?\\n\",\n",
        "                     \"Why do you say that?\\n\",\n",
        "                     \"I see. Can you tell me more?\\n\",\n",
        "                     \"I understand. Can you elaborate?\\n\",\n",
        "                     \"Interesting. Can you tell me more?\\n\",\n",
        "                     \"I see. How do you think?\\n\",\n",
        "                     \"Why?\\n\")\n",
        "        return random.choice(responses)\n",
        "\n",
        "AlienBot = RuleBot()\n",
        "AlienBot.greet()\n"
      ],
      "metadata": {
        "colab": {
          "base_uri": "https://localhost:8080/"
        },
        "id": "yehS5sw7ssX8",
        "outputId": "7c398e93-2755-4657-c095-744f0839e1de"
      },
      "execution_count": 9,
      "outputs": [
        {
          "output_type": "stream",
          "name": "stdout",
          "text": [
            "What is your name?\n",
            "dd\n",
            "Hi dd, I am Rule-Bot. Will you help me learn about your planet?\n",
            "yes\n",
            "What planets have you visited?none actually\n",
            "I understand. Can you elaborate?\n",
            "inter planetary travelling hasn't started here yet\n",
            "Why do you say that?\n",
            "because we have technological limitations, we're trying to work on them though\n",
            "Why do you say that?\n",
            "hmm\n",
            "I see. Can you tell me more?\n",
            "hmm\n",
            "I understand. Can you elaborate?\n",
            "yes yes sure\n",
            "I see. How do you think?\n",
            "with my brain of course\n",
            "Why?\n",
            "why not?\n",
            "I see. How do you think?\n",
            "right right\n",
            "I see. How do you think?\n",
            "bye\n",
            "Okay, have a nice day!\n"
          ]
        }
      ]
    },
    {
      "cell_type": "code",
      "source": [],
      "metadata": {
        "id": "63aBB7SFsuXk"
      },
      "execution_count": null,
      "outputs": []
    }
  ]
}